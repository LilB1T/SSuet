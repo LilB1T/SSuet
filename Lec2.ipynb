{
  "nbformat": 4,
  "nbformat_minor": 0,
  "metadata": {
    "colab": {
      "provenance": [],
      "authorship_tag": "ABX9TyMNCN3r+J0OZhV/aJFw3EB9",
      "include_colab_link": true
    },
    "kernelspec": {
      "name": "python3",
      "display_name": "Python 3"
    },
    "language_info": {
      "name": "python"
    }
  },
  "cells": [
    {
      "cell_type": "markdown",
      "metadata": {
        "id": "view-in-github",
        "colab_type": "text"
      },
      "source": [
        "<a href=\"https://colab.research.google.com/github/LilB1T/SSuet/blob/main/Lec2.ipynb\" target=\"_parent\"><img src=\"https://colab.research.google.com/assets/colab-badge.svg\" alt=\"Open In Colab\"/></a>"
      ]
    },
    {
      "cell_type": "markdown",
      "source": [
        "# pythonbyrafaysheikh\n",
        "\n"
      ],
      "metadata": {
        "id": "Qwpe3BwFkSEw"
      }
    },
    {
      "cell_type": "code",
      "source": [
        "print(\"lmao\")"
      ],
      "metadata": {
        "colab": {
          "base_uri": "https://localhost:8080/"
        },
        "id": "pndXZbSikdEX",
        "outputId": "adc69153-4df3-46bd-a881-e5d202b77644"
      },
      "execution_count": null,
      "outputs": [
        {
          "output_type": "stream",
          "name": "stdout",
          "text": [
            "lmao\n"
          ]
        }
      ]
    },
    {
      "cell_type": "code",
      "source": [
        "'''#saynotopractice'''"
      ],
      "metadata": {
        "colab": {
          "base_uri": "https://localhost:8080/",
          "height": 35
        },
        "id": "8p7vrENCkhQ4",
        "outputId": "97a7e6d7-5843-437a-b6cd-da8d5534b1a0"
      },
      "execution_count": null,
      "outputs": [
        {
          "output_type": "execute_result",
          "data": {
            "text/plain": [
              "'#saynotopractice'"
            ],
            "application/vnd.google.colaboratory.intrinsic+json": {
              "type": "string"
            }
          },
          "metadata": {},
          "execution_count": 2
        }
      ]
    },
    {
      "cell_type": "code",
      "source": [
        "num1=float((input(\"enter ur 1st no:\")))\n",
        "num2=float(input(\"enter ur 2nd no:\"))\n",
        "print(\"add:\",num1+num2,\"sub:\",num1-num2,\"multiply\",num1*num2,\"divide:\",num1/num2)"
      ],
      "metadata": {
        "colab": {
          "base_uri": "https://localhost:8080/"
        },
        "id": "TwcSgUQfqmDW",
        "outputId": "f696be9d-458c-4ec5-8742-b27d6643b373"
      },
      "execution_count": 1,
      "outputs": [
        {
          "output_type": "stream",
          "name": "stdout",
          "text": [
            "enter ur 1st no:56\n",
            "enter ur 2nd no:5\n",
            "add: 61.0 sub: 51.0 multiply 280.0 divide: 11.2\n"
          ]
        }
      ]
    },
    {
      "cell_type": "code",
      "source": [
        "fname=input((\"enter ur 1 name:\"))\n",
        "mname=input(\"enter ur middle name:\\n\")\n",
        "lname=input((\"enter ur last name:\"))\n",
        "print(lname,\"your full name is :\",fname+mname+lname)"
      ],
      "metadata": {
        "id": "UZdM2PxPq1aO"
      },
      "execution_count": null,
      "outputs": []
    },
    {
      "cell_type": "code",
      "source": [
        "print(f\"your first name is {fname}\\n your middle name is {mname} \\n your last name is {lname}\")"
      ],
      "metadata": {
        "id": "Z8_6Qa-zzJca"
      },
      "execution_count": null,
      "outputs": []
    },
    {
      "cell_type": "code",
      "source": [
        "print(f\"{fname+mname+lname}\")"
      ],
      "metadata": {
        "id": "1DJkIM1p0WMZ"
      },
      "execution_count": null,
      "outputs": []
    },
    {
      "cell_type": "code",
      "source": [
        "\n",
        "radius = float(input(\"Enter the radius of the circle: \"))\n",
        "pi=eval(input(\"Enter your pi value :\"))\n",
        "area = pi * (radius ** 2)\n",
        "print(\"The area of the circle is:\", area)"
      ],
      "metadata": {
        "id": "SaKdKBXI22HC"
      },
      "execution_count": null,
      "outputs": []
    },
    {
      "cell_type": "code",
      "source": [
        "# prompt: create an xlx sheet of pd and numpy of sheet missing data in first and in 2nd the data is filled the time and date and the kb must be compressed  and also give me the data output on xlx sheet on excel\n",
        "\n",
        "import pandas as pd\n",
        "import numpy as np\n",
        "from datetime import datetime\n",
        "from io import BytesIO\n",
        "import zipfile\n",
        "\n",
        "def create_excel_with_missing_and_filled_data():\n",
        "    # Sample data with missing values\n",
        "    data_missing = {\n",
        "        'Column1': [1, 2, None, 4, 5],\n",
        "        'Column2': [6, None, 8, 9, 10]\n",
        "    }\n",
        "\n",
        "    df_missing = pd.DataFrame(data_missing)\n",
        "\n",
        "    # Fill missing data with appropriate values (e.g., mean)\n",
        "    df_filled = df_missing.copy()\n",
        "    df_filled['Column1'] = df_filled['Column1'].fillna(df_filled['Column1'].mean())\n",
        "    df_filled['Column2'] = df_filled['Column2'].fillna(df_filled['Column2'].mean())\n",
        "\n",
        "    # Add current date and time\n",
        "    current_datetime = datetime.now()\n",
        "    df_filled['Date and Time'] = current_datetime\n",
        "\n",
        "    # Create in-memory Excel file\n",
        "    with pd.ExcelWriter('missing_filled_data.xlsx', engine=\"xlsxwriter\") as writer:\n",
        "        df_missing.to_excel(writer, sheet_name=\"Missing Data\", index=False)\n",
        "        df_filled.to_excel(writer, sheet_name=\"Filled Data\", index=False)\n",
        "\n",
        "    # Compress the Excel file (optional)\n",
        "    with zipfile.ZipFile('missing_filled_data.zip', 'w', zipfile.ZIP_DEFLATED) as zipf:\n",
        "        zipf.write('missing_filled_data.xlsx')\n",
        "\n",
        "\n",
        "create_excel_with_missing_and_filled_data()"
      ],
      "metadata": {
        "id": "5_ciFX5tBOys"
      },
      "execution_count": null,
      "outputs": []
    },
    {
      "cell_type": "code",
      "source": [
        "print(\"hello\",\"world\",sep=\",\",end=\"!\\n\" , flush=True , file=open(\"output.txt\",\"w\"))\n",
        "print(\"this will be printed to console only\")\n",
        "with open('output.txt','r') as f:\n",
        "   print(f.read())"
      ],
      "metadata": {
        "id": "sIp86keGnn3g"
      },
      "execution_count": null,
      "outputs": []
    },
    {
      "cell_type": "code",
      "source": [
        "\n",
        "print(\"50+4,50-4,50*4,50/4\")"
      ],
      "metadata": {
        "id": "UTixIh1Tn8f-"
      },
      "execution_count": null,
      "outputs": []
    },
    {
      "cell_type": "code",
      "source": [
        "feet = 5\n",
        "inches = 2\n",
        "total_inches = (feet*12) + inches\n",
        "centimeters = total_inches * 2.54\n",
        "print(f\"{feet} feet {inches} inches is equal to {centimeters} centimeters\")\n"
      ],
      "metadata": {
        "id": "rTqStrLLsggc"
      },
      "execution_count": null,
      "outputs": []
    },
    {
      "cell_type": "code",
      "source": [
        "cm = float(input(\"Enter the length in centimeters: \"))\n",
        "feet = cm / 30.48\n",
        "print_output = print\n",
        "print_output(f\"{cm} centimeters is equal to {feet} feet\")\n"
      ],
      "metadata": {
        "id": "h4DOh1xlxp_Z"
      },
      "execution_count": null,
      "outputs": []
    },
    {
      "cell_type": "code",
      "source": [
        "feet=float(input(\"enter ur feet:\"))\n",
        "inches=float(input(\"enter ur inches:\"))\n",
        "tot=(feet*12 + inches)*2.54\n",
        "print(f\"{feet} feet , {inches} inches is equal to {tot} centimeters\")"
      ],
      "metadata": {
        "id": "XnLF-OQ5xrXx"
      },
      "execution_count": null,
      "outputs": []
    },
    {
      "cell_type": "code",
      "source": [
        "x1=2\n",
        "x2=3\n",
        "y1=5\n",
        "y2=6\n",
        "distance =round((pow((x2-x1)**2+(y2-y1)**2,1/2)))\n",
        "print(distance)"
      ],
      "metadata": {
        "id": "dUMlAGSO0Ppx"
      },
      "execution_count": null,
      "outputs": []
    },
    {
      "cell_type": "code",
      "source": [
        "\n",
        "food = input(\"enter ur food:\")\n",
        "print(food.lower())\n",
        "print(food.upper())\n"
      ],
      "metadata": {
        "id": "fnQXY7Ta2MfX"
      },
      "execution_count": null,
      "outputs": []
    },
    {
      "cell_type": "code",
      "source": [
        "print(\"foood\",\"food\".split())"
      ],
      "metadata": {
        "colab": {
          "base_uri": "https://localhost:8080/"
        },
        "id": "_8SFOLJm-SzU",
        "outputId": "6ef5c905-9dbd-48bc-b6e0-0631a3014573"
      },
      "execution_count": null,
      "outputs": [
        {
          "output_type": "stream",
          "name": "stdout",
          "text": [
            "foood ['food']\n"
          ]
        }
      ]
    },
    {
      "cell_type": "code",
      "source": [
        "no1=eval(input(\"maths no:\"))\n",
        "no2=eval(input(\"physics no:\"))\n",
        "no3=eval(input(\"chemistry no:\"))\n",
        "no4=eval(input(\"english no:\"))\n",
        "no5=eval(input(\"islamiat no:\"))\n",
        "tot_marks = (no1+no2+no3+no4+no5)\n",
        "print(tot_marks)\n",
        "average = tot_marks / 5\n",
        "print(average)\n",
        "per=(tot_marks/250)*100\n",
        "print(per)\n"
      ],
      "metadata": {
        "colab": {
          "base_uri": "https://localhost:8080/"
        },
        "id": "8OS5dBC6_XqU",
        "outputId": "bbececf3-6fc9-467e-ea95-30d4c7ad6f18"
      },
      "execution_count": null,
      "outputs": [
        {
          "output_type": "stream",
          "name": "stdout",
          "text": [
            "maths no:50\n",
            "physics no:50\n",
            "chemistry no:50\n",
            "english no:50\n",
            "islamiat no:50\n",
            "250\n",
            "50.0\n",
            "100.0\n"
          ]
        }
      ]
    },
    {
      "cell_type": "code",
      "source": [
        "x= 5\n",
        "a = x"
      ],
      "metadata": {
        "id": "ju7DLfWcAHkT"
      },
      "execution_count": null,
      "outputs": []
    },
    {
      "cell_type": "code",
      "source": [
        "print(x)"
      ],
      "metadata": {
        "id": "_qSyybwEEtBa",
        "outputId": "dc1e6cb5-2644-4167-c7da-7521128c8102",
        "colab": {
          "base_uri": "https://localhost:8080/"
        }
      },
      "execution_count": null,
      "outputs": [
        {
          "output_type": "stream",
          "name": "stdout",
          "text": [
            "5\n"
          ]
        }
      ]
    },
    {
      "cell_type": "code",
      "source": [],
      "metadata": {
        "id": "OqPBXR_lEugy",
        "colab": {
          "base_uri": "https://localhost:8080/"
        },
        "outputId": "1794595e-0698-4fda-84f4-6441bfe18e07"
      },
      "execution_count": null,
      "outputs": [
        {
          "output_type": "stream",
          "name": "stdout",
          "text": [
            "fhad \n"
          ]
        }
      ]
    },
    {
      "cell_type": "code",
      "source": [
        "import cmath\n",
        "\n",
        "a = float(input(\"Enter the coefficient a: \"))\n",
        "b = float(input(\"Enter the coefficient b: \"))\n",
        "c = float(input(\"Enter the coefficient c: \"))\n",
        "\n",
        "# Calculate the discriminant\n",
        "delta = (b**2) - 4*(a*c)\n",
        "\n",
        "# Find two solutions\n",
        "if delta >= 0:\n",
        "    x1 = (-b - delta**0.5) / (2*a)\n",
        "    x2 = (-b + delta**0.5) / (2*a)\n",
        "else:\n",
        "    x1 = (-b - cmath.sqrt(delta)) / (2 * a)\n",
        "    x2 = (-b + cmath.sqrt(delta)) / (2 * a)\n",
        "\n",
        "print('The solutions are {0} and {1}'.format(x1,x2))"
      ],
      "metadata": {
        "colab": {
          "base_uri": "https://localhost:8080/"
        },
        "id": "BlOAFNSGv8V-",
        "outputId": "d5f21a7b-a4cf-46ee-c3aa-2f969300dd41"
      },
      "execution_count": null,
      "outputs": [
        {
          "output_type": "stream",
          "name": "stdout",
          "text": [
            "Enter the coefficient a: 1\n",
            "Enter the coefficient b: 1\n",
            "Enter the coefficient c: 1\n",
            "The solutions are (-0.5-0.8660254037844386j) and (-0.5+0.8660254037844386j)\n"
          ]
        }
      ]
    },
    {
      "cell_type": "code",
      "source": [
        "\n",
        "a = eval(input(\"Enter the coefficient a: \"))\n",
        "b = eval(input(\"Enter the coefficient b: \"))\n",
        "c = eval(input(\"Enter the coefficient c: \"))\n",
        "delta = complex(-b+(b**2-4*a*c)**(1/2))/(2*a)\n",
        "print(delta)"
      ],
      "metadata": {
        "colab": {
          "base_uri": "https://localhost:8080/"
        },
        "id": "0_GrnpDqxc83",
        "outputId": "1523b592-8ec2-48f6-eff6-b1b1fb9fc57b"
      },
      "execution_count": null,
      "outputs": [
        {
          "output_type": "stream",
          "name": "stdout",
          "text": [
            "Enter the coefficient a: 3\n",
            "Enter the coefficient b: 2\n",
            "Enter the coefficient c: 1\n",
            "(-0.3333333333333333+0.47140452079103173j)\n"
          ]
        }
      ]
    },
    {
      "cell_type": "code",
      "source": [
        "v=eval(input(\"enter ur velocity:\"))\n",
        "t=eval(input(\"enter ur time:\"))\n",
        "i=eval(input(\"enter ur initial velocity:\"))\n",
        "a=eval(input(\"enter ur acceleration:\"))\n",
        "\n",
        "s=v*i*t+(1/2)*a*t**2\n",
        "\n",
        "print(s)"
      ],
      "metadata": {
        "colab": {
          "base_uri": "https://localhost:8080/"
        },
        "id": "asOhMi2HxzTW",
        "outputId": "7cccdaf2-a794-4bf2-b34a-8899fc81f822"
      },
      "execution_count": null,
      "outputs": [
        {
          "output_type": "stream",
          "name": "stdout",
          "text": [
            "enter ur velocity:12\n",
            "enter ur time:3\n",
            "enter ur initial velocity:2\n",
            "enter ur acceleration:1\n",
            "76.5\n"
          ]
        }
      ]
    },
    {
      "cell_type": "code",
      "source": [
        "a =3\n",
        "b=6\n",
        "d = (a**3 + 3*a**2*b + 3*a*b**2+b**3)\n",
        "e = (a**2+2*a*b+b**2)\n",
        "f = (a*b)/(a*b**2)\n",
        "g = (a**2*b)\n",
        "h= (d*e/f*g)\n",
        "print(h)\n"
      ],
      "metadata": {
        "colab": {
          "base_uri": "https://localhost:8080/"
        },
        "id": "KU3aprGL1D2d",
        "outputId": "9f807fd3-fe21-4998-b8e6-66a92ef6cde1"
      },
      "execution_count": null,
      "outputs": [
        {
          "output_type": "stream",
          "name": "stdout",
          "text": [
            "19131876.0\n"
          ]
        }
      ]
    },
    {
      "cell_type": "code",
      "source": [
        "\n",
        "pet_preference = input(\"Do you prefer a furry friend or a scaly companion? (furry/scaly): \").lower()\n",
        "\n",
        "if pet_preference == \"furry\":\n",
        "  size_preference = input(\"Do you prefer a small or large furry friend? (small/large): \").lower()\n",
        "  if size_preference == \"small\":\n",
        "    print(\"Consider a rabbit or a guinea pig!\")\n",
        "  elif size_preference == \"large\":\n",
        "    print(\"Maybe a dog or a cat?\")\n",
        "  else:\n",
        "    print(\"I don't understand your size preference.\")\n",
        "elif pet_preference == \"scaly\":\n",
        "  print(\"A reptile might be a good choice, like a snake or a lizard!\")\n",
        "else:\n",
        "  print(\"I don't understand your pet preference. Try 'furry' or 'scaly'.\")"
      ],
      "metadata": {
        "colab": {
          "base_uri": "https://localhost:8080/"
        },
        "id": "5Sx1totd9V6U",
        "outputId": "ad1fd509-3d5f-4bf6-af53-3d49215527c3"
      },
      "execution_count": null,
      "outputs": [
        {
          "output_type": "stream",
          "name": "stdout",
          "text": [
            "Do you prefer a pet that is furry or scaly? scaly\n",
            "Are you comfortable with handling reptiles? (yes/no)no\n",
            "Maybe fish would be a good option!\n"
          ]
        }
      ]
    },
    {
      "cell_type": "code",
      "source": [
        "car_preference = input(\"Do you prefer a sedan, an SUV, or a sports car? (sedan/SUV/sports): \").lower()\n",
        "\n",
        "if car_preference == \"sedan\":\n",
        "    print(\"Consider a Honda Civic or a Toyota Camry.\")\n",
        "elif car_preference == \"suv\":\n",
        "    print(\"Check out the Honda CR-V or the Toyota RAV4.\")\n",
        "elif car_preference == \"sports\":\n",
        "    print(\"Maybe a Porsche 911 or a BMW M3?\")\n",
        "else:\n",
        "    print(\"I don't understand your car preference.\")"
      ],
      "metadata": {
        "colab": {
          "base_uri": "https://localhost:8080/"
        },
        "id": "po015IYsDKoF",
        "outputId": "2301c46f-861a-48fa-8145-f2718caf730c"
      },
      "execution_count": null,
      "outputs": [
        {
          "output_type": "stream",
          "name": "stdout",
          "text": [
            "Do you prefer a sedan, an SUV, or a sports car? (sedan/SUV/sports): sports\n",
            "Maybe a Porsche 911 or a BMW M3?\n"
          ]
        }
      ]
    },
    {
      "cell_type": "code",
      "source": [
        "# prompt: movie suggessiton code with if else , and also used as logical\n",
        "\n",
        "movie_genre = input(\"Enter your preferred movie genre (action, comedy, drama, horror, romance): \").lower()\n",
        "\n",
        "if movie_genre == \"action\":\n",
        "    movie_subgenre = input(\"Prefer fast-paced or tactical action? (fast/tactical): \").lower()\n",
        "    if movie_subgenre == \"fast\":\n",
        "        print(\"You might enjoy Fast and Furious or Mission Impossible.\")\n",
        "    elif movie_subgenre == \"tactical\":\n",
        "        print(\"Consider watching John Wick or Sicario.\")\n",
        "    else:\n",
        "        print(\"I don't understand your action preference.\")\n",
        "elif movie_genre == \"comedy\":\n",
        "    print(\"Check out movies like The Hangover or Bridesmaids.\")\n",
        "elif movie_genre == \"drama\":\n",
        "    print(\"You could try The Shawshank Redemption or The Dark Knight.\")\n",
        "elif movie_genre == \"horror\":\n",
        "    horror_intensity = input(\"Prefer jump scares or psychological horror? (jumpscares/psychological): \").lower()\n",
        "    if horror_intensity == \"jumpscares\":\n",
        "        print(\"Try watching Insidious or The Conjuring.\")\n",
        "    elif horror_intensity == \"psychological\":\n",
        "        print(\"Consider The Shining or The Silence of the Lambs.\")\n",
        "    else:\n",
        "      print(\"I don't understand your horror preference.\")\n",
        "elif movie_genre == \"romance\":\n",
        "    print(\"You might like The Notebook or La La Land.\")\n",
        "else:\n",
        "    print(\"I don't have recommendations for that genre yet.\")"
      ],
      "metadata": {
        "id": "eEfdRpCFFPj7",
        "colab": {
          "base_uri": "https://localhost:8080/"
        },
        "outputId": "8d3c4fe2-af68-4330-c9ed-e44579e992f3"
      },
      "execution_count": null,
      "outputs": [
        {
          "output_type": "stream",
          "name": "stdout",
          "text": [
            "Enter your preferred movie genre (action, comedy, drama, horror, romance): romance\n",
            "You might like The Notebook or La La Land.\n"
          ]
        }
      ]
    },
    {
      "cell_type": "code",
      "source": [
        "# My first program\n",
        "print(\"\\nWelcome in the world of programming!\")\n"
      ],
      "metadata": {
        "colab": {
          "base_uri": "https://localhost:8080/"
        },
        "id": "QgyT8NPJgtbV",
        "outputId": "dc1724c7-22d0-4413-9b77-cd235ad3f260"
      },
      "execution_count": null,
      "outputs": [
        {
          "output_type": "stream",
          "name": "stdout",
          "text": [
            "\n",
            "Welcome in the world of programming!\n"
          ]
        }
      ]
    },
    {
      "cell_type": "code",
      "source": [
        "#My second program\n",
        "print(\"Welcome in the\\n \")\n",
        "print(\"world of programming! \")"
      ],
      "metadata": {
        "colab": {
          "base_uri": "https://localhost:8080/"
        },
        "id": "uifkANH4hOxf",
        "outputId": "c73ced48-0b8b-4ecb-8cbb-f2e2fe1178df"
      },
      "execution_count": null,
      "outputs": [
        {
          "output_type": "stream",
          "name": "stdout",
          "text": [
            "Welcome in the\n",
            " \n",
            "world of programming! \n"
          ]
        }
      ]
    },
    {
      "cell_type": "code",
      "source": [
        "print(\"Name: Abdullahjalal\")\n",
        "print(\"Age: 20\")\n",
        "print(\"Address: xyz\")\n",
        "print(\"Phone Number: +92*********8\")\n",
        "print(\"Email: b1t@gmail.com\")\n",
        "print(\"Education: SE\")\n",
        "print(\"Skills: undefined\")\n",
        "print(\"Interests:Code Retrieval\")\n",
        "print(\"Inspired by: Andrew Ng\")\n",
        "print(\"Languages: Urdu , English\")\n",
        "print(\"Hobbies: Esports\")"
      ],
      "metadata": {
        "colab": {
          "base_uri": "https://localhost:8080/"
        },
        "id": "ZquNrbtaha_w",
        "outputId": "92fb95f6-b751-4fa2-c58b-1a0445b349e7"
      },
      "execution_count": null,
      "outputs": [
        {
          "output_type": "stream",
          "name": "stdout",
          "text": [
            "Name: Abdullahjalal\n",
            "Age: 20\n",
            "Address: xyz\n",
            "Phone Number: +92*********8\n",
            "Email: b1t@gmail.com\n",
            "Education: SE\n",
            "Skills: undefined\n",
            "Interests:Code Retrieval\n",
            "Inspired by: Andrew Ng\n",
            "Languages: Urdu , English\n",
            "Hobbies: Esports\n"
          ]
        }
      ]
    },
    {
      "cell_type": "code",
      "source": [
        "x=5:\n",
        "print(x)"
      ],
      "metadata": {
        "colab": {
          "base_uri": "https://localhost:8080/",
          "height": 106
        },
        "id": "v8Mfq4B0miai",
        "outputId": "7ce6d5db-058b-49a4-de50-0abb97e02d84"
      },
      "execution_count": null,
      "outputs": [
        {
          "output_type": "error",
          "ename": "SyntaxError",
          "evalue": "invalid syntax (<ipython-input-8-17921f127570>, line 1)",
          "traceback": [
            "\u001b[0;36m  File \u001b[0;32m\"<ipython-input-8-17921f127570>\"\u001b[0;36m, line \u001b[0;32m1\u001b[0m\n\u001b[0;31m    x=5:\u001b[0m\n\u001b[0m       ^\u001b[0m\n\u001b[0;31mSyntaxError\u001b[0m\u001b[0;31m:\u001b[0m invalid syntax\n"
          ]
        }
      ]
    },
    {
      "cell_type": "code",
      "source": [
        "1TEXT = \"SSUET\"\n",
        "NUMBER = 1\n",
        "print(NUMBER+ TEXT)\n"
      ],
      "metadata": {
        "colab": {
          "base_uri": "https://localhost:8080/",
          "height": 106
        },
        "id": "aRBr9TAVmjqF",
        "outputId": "44c911fe-f9bc-4215-ce4c-2244367aa5a6"
      },
      "execution_count": null,
      "outputs": [
        {
          "output_type": "error",
          "ename": "SyntaxError",
          "evalue": "invalid decimal literal (<ipython-input-9-63409ce6d4d2>, line 1)",
          "traceback": [
            "\u001b[0;36m  File \u001b[0;32m\"<ipython-input-9-63409ce6d4d2>\"\u001b[0;36m, line \u001b[0;32m1\u001b[0m\n\u001b[0;31m    1TEXT = \"SSUET\"\u001b[0m\n\u001b[0m    ^\u001b[0m\n\u001b[0;31mSyntaxError\u001b[0m\u001b[0;31m:\u001b[0m invalid decimal literal\n"
          ]
        }
      ]
    },
    {
      "cell_type": "code",
      "source": [
        "a = b = 3 = 4"
      ],
      "metadata": {
        "id": "cM6sQxaJm9wj",
        "outputId": "3893087a-ac7e-4533-cee6-90f41903b066",
        "colab": {
          "base_uri": "https://localhost:8080/",
          "height": 106
        }
      },
      "execution_count": null,
      "outputs": [
        {
          "output_type": "error",
          "ename": "SyntaxError",
          "evalue": "cannot assign to literal (<ipython-input-10-85a94a7e4906>, line 1)",
          "traceback": [
            "\u001b[0;36m  File \u001b[0;32m\"<ipython-input-10-85a94a7e4906>\"\u001b[0;36m, line \u001b[0;32m1\u001b[0m\n\u001b[0;31m    a = b = 3 = 4\u001b[0m\n\u001b[0m            ^\u001b[0m\n\u001b[0;31mSyntaxError\u001b[0m\u001b[0;31m:\u001b[0m cannot assign to literal\n"
          ]
        }
      ]
    },
    {
      "cell_type": "code",
      "source": [
        "def area_radius():\n",
        "    # Calculate area of a circle given the radius\n",
        "    radius = float(input(\"Enter the radius of the circle: \"))\n",
        "    area = 3.14159 * radius * radius\n",
        "    print(f\"The area of the circle with radius {radius} is: {area}\")\n",
        "\n",
        "def odd_even_random():\n",
        "    import random\n",
        "    random_number = random.randint(1, 100)\n",
        "    print(f\"Random number generated: {random_number}\")\n",
        "    if random_number % 2 == 0:\n",
        "        print(\"The number is even.\")\n",
        "    else:\n",
        "        print(\"The number is odd.\")\n",
        "\n",
        "def vowel_consonant():\n",
        "    char = input(\"Enter a character: \").lower()\n",
        "    vowels = ['a', 'e', 'i', 'o', 'u']\n",
        "    if char in vowels:\n",
        "        print(f\"{char} is a vowel.\")\n",
        "    else:\n",
        "        print(f\"{char} is a consonant.\")\n",
        "\n",
        "def calculator():\n",
        "    print(\"Choose an operator:\")\n",
        "    print(\"1. Addition (+)\")\n",
        "    print(\"2. Subtraction (-)\")\n",
        "    print(\"3. Multiplication (*)\")\n",
        "    print(\"4. Division (/)\")\n",
        "    print(\"5. Modulo (%)\")\n",
        "    print(\"6. Exponentiation (**)\")\n",
        "    print(\"7. Floor Division (//)\")\n",
        "\n",
        "    operator = input(\"Enter the operator number (1-7): \")\n",
        "    num1 = eval(input(\"Enter the first number: \"))\n",
        "    num2 = eval(input(\"Enter the second number: \"))\n",
        "\n",
        "    if operator == '1':\n",
        "        result = num1 + num2\n",
        "    elif operator == '2':\n",
        "        result = num1 - num2\n",
        "    elif operator == '3':\n",
        "        result = num1 * num2\n",
        "    elif operator == '4':\n",
        "        result = num1 / num2\n",
        "    elif operator == '5':\n",
        "        result = num1 % num2\n",
        "    elif operator == '6':\n",
        "        result = num1 ** num2\n",
        "    elif operator == '7':\n",
        "        result = num1 // num2\n",
        "    else:\n",
        "        print(\"Invalid operator selected!\")\n",
        "    print(f\"The result of the operation is: {result}\")\n",
        "\n",
        "def marksheet():\n",
        "    num_subjects = int(input(\"Enter the number of subjects: \"))\n",
        "    total_marks = 0\n",
        "    for i in range(1, num_subjects + 1):\n",
        "        marks = float(input(f\"Enter the marks for Subject {i}: \"))\n",
        "        total_marks += marks\n",
        "    average_marks = total_marks / num_subjects\n",
        "    if average_marks >= 90:\n",
        "        grade = \"A+\"\n",
        "    elif average_marks >= 80:\n",
        "        grade = \"A\"\n",
        "    elif average_marks >= 70:\n",
        "        grade = \"B+\"\n",
        "    elif average_marks >= 60:\n",
        "        grade = \"B\"\n",
        "    elif average_marks >= 50:\n",
        "        grade = \"C\"\n",
        "    elif average_marks >= 40:\n",
        "        grade = \"D\"\n",
        "    else:\n",
        "        grade = \"F\"\n",
        "    if grade == \"A+\":\n",
        "        grade_message = \"Excellent\"\n",
        "    elif grade == \"A\":\n",
        "        grade_message = \"Good\"\n",
        "    elif grade == \"B+\":\n",
        "        grade_message = \"Good\"\n",
        "    elif grade == \"B\":\n",
        "        grade_message = \"Needs Improvement\"\n",
        "    elif grade == \"C\":\n",
        "        grade_message = \"Needs Improvement\"\n",
        "    else:\n",
        "        grade_message = \"Fail\"\n",
        "    print(f\"\\nTotal Marks: {total_marks}\")\n",
        "    print(f\"Average Marks: {average_marks:.2f}\")\n",
        "    print(f\"Grade: {grade} ({grade_message})\")\n",
        "\n",
        "def main():\n",
        "    print(\"Choose an option:\")\n",
        "    print(\"1. Area of Circle based on Radius\")\n",
        "    print(\"2. Odd/Even Random Number\")\n",
        "    print(\"3. Vowel/Consonant Checker\")\n",
        "    print(\"4. Calculator (7 Operations)\")\n",
        "    print(\"5. Marksheet with Grading\")\n",
        "\n",
        "    choice = input(\"Enter your choice (1-5): \")\n",
        "\n",
        "    if choice == '1':\n",
        "        area_radius()\n",
        "    elif choice == '2':\n",
        "        odd_even_random()\n",
        "    elif choice == '3':\n",
        "        vowel_consonant()\n",
        "    elif choice == '4':\n",
        "        calculator()\n",
        "    elif choice == '5':\n",
        "        marksheet()\n",
        "    else:\n",
        "        print(\"Invalid choice, please select a number between 1 and 5.\")\n",
        "\n",
        "if __name__ == \"__main__\":\n",
        "    main()"
      ],
      "metadata": {
        "colab": {
          "base_uri": "https://localhost:8080/"
        },
        "id": "oTvMBjeZ8jFz",
        "outputId": "74e1c784-601a-4f3d-bb6a-9409b79a4131"
      },
      "execution_count": null,
      "outputs": [
        {
          "output_type": "stream",
          "name": "stdout",
          "text": [
            "Choose an option:\n",
            "1. Area of Circle based on Radius\n",
            "2. Odd/Even Random Number\n",
            "3. Vowel/Consonant Checker\n",
            "4. Calculator (7 Operations)\n",
            "5. Marksheet with Grading\n",
            "Enter your choice (1-5): 5\n",
            "Enter the number of subjects: 3\n",
            "Enter the marks for Subject 1: 45\n",
            "Enter the marks for Subject 2: 76\n",
            "Enter the marks for Subject 3: 67\n",
            "\n",
            "Total Marks: 188.0\n",
            "Average Marks: 62.67\n",
            "Grade: B (Needs Improvement)\n"
          ]
        }
      ]
    },
    {
      "cell_type": "code",
      "source": [
        "a = 2 % 2 + 2 * 2 - 2 / 2\n",
        "print(a)"
      ],
      "metadata": {
        "id": "dVnPfWzd8vZh",
        "colab": {
          "base_uri": "https://localhost:8080/"
        },
        "outputId": "ef296d48-22f4-4691-a76c-1df2cfff7a43"
      },
      "execution_count": null,
      "outputs": [
        {
          "output_type": "stream",
          "name": "stdout",
          "text": [
            "3.0\n"
          ]
        }
      ]
    },
    {
      "cell_type": "code",
      "source": [
        "b = 3 / 2 + 5 * 4 / 3 ;\n",
        "print(b)"
      ],
      "metadata": {
        "colab": {
          "base_uri": "https://localhost:8080/"
        },
        "id": "UG460Jquwg1T",
        "outputId": "e0138bb2-24af-4ce5-b57c-0319ab00f92e"
      },
      "execution_count": null,
      "outputs": [
        {
          "output_type": "stream",
          "name": "stdout",
          "text": [
            "8.166666666666668\n"
          ]
        }
      ]
    },
    {
      "cell_type": "code",
      "source": [
        "c = b = a = 3 + 4 ;\n",
        "print(a)\n",
        "print(c)\n",
        "print(b)"
      ],
      "metadata": {
        "colab": {
          "base_uri": "https://localhost:8080/"
        },
        "id": "WpOlf7gow6si",
        "outputId": "2fb4dbb7-2ab6-4f92-fd9b-c494bebbaa52"
      },
      "execution_count": null,
      "outputs": [
        {
          "output_type": "stream",
          "name": "stdout",
          "text": [
            "7\n",
            "7\n",
            "7\n"
          ]
        }
      ]
    },
    {
      "cell_type": "code",
      "source": [
        "# prompt: 1. Write a program that calculates area of a circle A=πr2. (Consider r = 50).\n",
        "\n",
        "radius = 50\n",
        "pi = 3.14159\n",
        "area = pi * (radius ** 2)\n",
        "print(\"The area of the circle is:\", area)"
      ],
      "metadata": {
        "colab": {
          "base_uri": "https://localhost:8080/"
        },
        "id": "H4P63nuiw8OH",
        "outputId": "7f3541e1-83da-4081-f49d-942f3da225e2"
      },
      "execution_count": null,
      "outputs": [
        {
          "output_type": "stream",
          "name": "stdout",
          "text": [
            "The area of the circle is: 7853.974999999999\n"
          ]
        }
      ]
    },
    {
      "cell_type": "code",
      "source": [
        "# prompt:  Write a program that performs the following four operations and prints their result on the screen.\n",
        "# 50 + 4\n",
        "# 50 – 4\n",
        "# 50 * 4\n",
        "# 50 / 4\n",
        "\n",
        "print(\"50 + 4 =\", 50 + 4)\n",
        "print(\"50 - 4 =\", 50 - 4)\n",
        "print(\"50 * 4 =\", 50 * 4)\n",
        "print(\"50 / 4 =\", 50 / 4)"
      ],
      "metadata": {
        "id": "WMDuf90F0VlC"
      },
      "execution_count": null,
      "outputs": []
    },
    {
      "cell_type": "code",
      "source": [
        "print(\"50 + 4:\", 50 + 4)\n",
        "print(\"50 - 4:\", 50 - 4)\n",
        "print(\"50 * 4:\", 50 * 4)\n",
        "print(\"50 / 4:\", 50 / 4)"
      ],
      "metadata": {
        "colab": {
          "base_uri": "https://localhost:8080/"
        },
        "id": "ebcymJjY0au9",
        "outputId": "b3bdf315-c99d-4403-e51f-e120ca27833e"
      },
      "execution_count": null,
      "outputs": [
        {
          "output_type": "stream",
          "name": "stdout",
          "text": [
            "50 + 4: 54\n",
            "50 - 4: 46\n",
            "50 * 4: 200\n",
            "50 / 4: 12.5\n"
          ]
        }
      ]
    },
    {
      "cell_type": "code",
      "source": [
        "feet = 5\n",
        "inches = 2\n",
        "totalinches = feet * 12 + inches\n",
        "centimeters = totalinches * 2.54\n",
        "print(f\"{feet} feet {inches} inches is equal to {centimeters} centimeters\")\n"
      ],
      "metadata": {
        "colab": {
          "base_uri": "https://localhost:8080/"
        },
        "id": "4Ttd_vh31o9N",
        "outputId": "45b4b914-cc6a-406f-e3dd-930d36c4cbb6"
      },
      "execution_count": null,
      "outputs": [
        {
          "output_type": "stream",
          "name": "stdout",
          "text": [
            "5 feet 2 inches is equal to 157.48 centimeters\n"
          ]
        }
      ]
    },
    {
      "cell_type": "code",
      "source": [
        "import math\n",
        "radius = 50\n",
        "area = math.pi *radius**2\n",
        "print(area)\n",
        "\n"
      ],
      "metadata": {
        "colab": {
          "base_uri": "https://localhost:8080/"
        },
        "id": "SGrv2nGizWtQ",
        "outputId": "ee7badf5-58b9-446a-a04f-461c9c49acb3"
      },
      "execution_count": null,
      "outputs": [
        {
          "output_type": "stream",
          "name": "stdout",
          "text": [
            "7853.981633974483\n"
          ]
        }
      ]
    },
    {
      "cell_type": "code",
      "source": [
        "x1 = 2\n",
        "x2 = 5\n",
        "y1 = 3\n",
        "y2 = 6\n",
        "distance = ((x2 - x1)**2 + (y2 - y1)**2)**(1/2)\n",
        "print(distance)"
      ],
      "metadata": {
        "colab": {
          "base_uri": "https://localhost:8080/"
        },
        "id": "jUTpHToh3le1",
        "outputId": "cd108ee2-e6af-4e5b-cc3d-edcccc87a74f"
      },
      "execution_count": null,
      "outputs": [
        {
          "output_type": "stream",
          "name": "stdout",
          "text": [
            "4.242640687119285\n"
          ]
        }
      ]
    },
    {
      "cell_type": "code",
      "source": [
        "# prompt: rite a program to compute distance between two points by creating variables (Pythagorean Theorem)\n",
        "# Distance =((x2−x1)^2+(y2−y1)^2)^1/2\n",
        "\n",
        "import math\n",
        "\n",
        "x1 = float(input(\"Enter the x-coordinate of the first point: \"))\n",
        "y1 = float(input(\"Enter the y-coordinate of the first point: \"))\n",
        "x2 = float(input(\"Enter the x-coordinate of the second point: \"))\n",
        "y2 = float(input(\"Enter the y-coordinate of the second point: \"))\n",
        "\n",
        "distance = math.sqrt((x2 - x1)**2 + (y2 - y1)**2)\n",
        "\n",
        "print(f\"The distance between the two points is: {distance}\")"
      ],
      "metadata": {
        "id": "GCg68-K145wf"
      },
      "execution_count": null,
      "outputs": []
    },
    {
      "cell_type": "code",
      "source": [
        "print(\"Hello \\b World!\")"
      ],
      "metadata": {
        "colab": {
          "base_uri": "https://localhost:8080/"
        },
        "id": "tFswOtyD6TQ9",
        "outputId": "47b25c59-4de5-4326-b285-6327c3cacf37"
      },
      "execution_count": null,
      "outputs": [
        {
          "output_type": "stream",
          "name": "stdout",
          "text": [
            "Hello \b World!\n"
          ]
        }
      ]
    },
    {
      "cell_type": "code",
      "source": [
        "first_number = str ( input (\"Enter first number\") )\n",
        "second_number = str ( input (\"Enter second number\") )\n",
        "\n",
        "sum = (first_number + second_number)\n",
        "print(\"Addition of two number is: \", sum)\n"
      ],
      "metadata": {
        "colab": {
          "base_uri": "https://localhost:8080/"
        },
        "id": "23MkaTLG6b7v",
        "outputId": "f18b4e64-e883-4f50-92cd-a189bec83b49"
      },
      "execution_count": null,
      "outputs": [
        {
          "output_type": "stream",
          "name": "stdout",
          "text": [
            "Enter first number21\n",
            "Enter second number32\n",
            "Addition of two number is:  2132\n"
          ]
        }
      ]
    },
    {
      "cell_type": "code",
      "source": [
        "age = 23\n",
        "message = \"Happy \" + age + \"rd Birthday!\"\n",
        "print(message)\n"
      ],
      "metadata": {
        "colab": {
          "base_uri": "https://localhost:8080/",
          "height": 176
        },
        "id": "2lrS54vv6qZE",
        "outputId": "94c78dc0-52d1-4fda-af84-21d15301e06b"
      },
      "execution_count": null,
      "outputs": [
        {
          "output_type": "error",
          "ename": "TypeError",
          "evalue": "can only concatenate str (not \"int\") to str",
          "traceback": [
            "\u001b[0;31m---------------------------------------------------------------------------\u001b[0m",
            "\u001b[0;31mTypeError\u001b[0m                                 Traceback (most recent call last)",
            "\u001b[0;32m<ipython-input-16-80a141e301d6>\u001b[0m in \u001b[0;36m<cell line: 2>\u001b[0;34m()\u001b[0m\n\u001b[1;32m      1\u001b[0m \u001b[0mage\u001b[0m \u001b[0;34m=\u001b[0m \u001b[0;36m23\u001b[0m\u001b[0;34m\u001b[0m\u001b[0;34m\u001b[0m\u001b[0m\n\u001b[0;32m----> 2\u001b[0;31m \u001b[0mmessage\u001b[0m \u001b[0;34m=\u001b[0m \u001b[0;34m\"Happy \"\u001b[0m \u001b[0;34m+\u001b[0m \u001b[0mage\u001b[0m \u001b[0;34m+\u001b[0m \u001b[0;34m\"rd Birthday!\"\u001b[0m\u001b[0;34m\u001b[0m\u001b[0;34m\u001b[0m\u001b[0m\n\u001b[0m\u001b[1;32m      3\u001b[0m \u001b[0mprint\u001b[0m\u001b[0;34m(\u001b[0m\u001b[0mmessage\u001b[0m\u001b[0;34m)\u001b[0m\u001b[0;34m\u001b[0m\u001b[0;34m\u001b[0m\u001b[0m\n",
            "\u001b[0;31mTypeError\u001b[0m: can only concatenate str (not \"int\") to str"
          ]
        }
      ]
    },
    {
      "cell_type": "code",
      "source": [
        "a=5\n",
        "print(\"a =\", a, sep='0', end=',')\n"
      ],
      "metadata": {
        "colab": {
          "base_uri": "https://localhost:8080/"
        },
        "id": "W0pTLRa17QWC",
        "outputId": "0c6dd994-06df-4d86-cdfe-350fea9a8dbe"
      },
      "execution_count": null,
      "outputs": [
        {
          "output_type": "stream",
          "name": "stdout",
          "text": [
            "a =05,"
          ]
        }
      ]
    },
    {
      "cell_type": "code",
      "source": [
        "name = input(\"Enter Employee Name\")\n",
        "salary  = input(\"Enter salary\")\n",
        "company = input (\"Enter Company name\")\n",
        "print(\"Printing Employee Details\")\n",
        "print (\"Name\", \"Salary\", \"Company\")\n",
        "print (name, salary, company)\n"
      ],
      "metadata": {
        "colab": {
          "base_uri": "https://localhost:8080/"
        },
        "id": "EJR3cFVd7dbd",
        "outputId": "e7e74374-a1cb-4839-f862-c14f790274b4"
      },
      "execution_count": null,
      "outputs": [
        {
          "output_type": "stream",
          "name": "stdout",
          "text": [
            "Enter Employee Namerafay\n",
            "Enter salary60 , 000\n",
            "Enter Company namemac\n",
            "Printing Employee Details\n",
            "Name Salary Company\n",
            "rafay 60 , 000 mac\n"
          ]
        }
      ]
    },
    {
      "cell_type": "code",
      "source": [
        "n1=int(input('\"enter n1 value'))\n",
        "n2=int(input('enter n2 value'))\n"
      ],
      "metadata": {
        "colab": {
          "base_uri": "https://localhost:8080/"
        },
        "id": "z_8xRRqX77rr",
        "outputId": "15ffdace-cb62-4230-dc2e-224a1efd741d"
      },
      "execution_count": null,
      "outputs": [
        {
          "name": "stdout",
          "output_type": "stream",
          "text": [
            "\"enter n1 value23\n",
            "enter n2 value24\n"
          ]
        }
      ]
    },
    {
      "cell_type": "code",
      "source": [
        "# prompt: Write a program to print a student’s bio data having his/her Date of birth, Roll no, Section, Percentage and grade of matriculation and Intermediate. All the fields should be entered from the console at run time.\n",
        "\n",
        "def student_bio_data():\n",
        "    dob = input(\"Enter Date of Birth (YYYY-MM-DD): \")\n",
        "    roll_no = input(\"Enter Roll Number: \")\n",
        "    section = input(\"Enter Section: \")\n",
        "\n",
        "    while True:\n",
        "        try:\n",
        "            matric_percentage = float(input(\"Enter Matriculation Percentage: \"))\n",
        "            if 0 <= matric_percentage <= 100:\n",
        "                break\n",
        "            else:\n",
        "                print(\"Percentage must be between 0 and 100.\")\n",
        "        except ValueError:\n",
        "            print(\"Invalid input. Please enter a valid number.\")\n",
        "\n",
        "    while True:\n",
        "      try:\n",
        "        intermediate_percentage = float(input(\"Enter Intermediate Percentage: \"))\n",
        "        if 0 <= intermediate_percentage <= 100:\n",
        "          break\n",
        "        else:\n",
        "          print(\"Percentage must be between 0 and 100.\")\n",
        "      except ValueError:\n",
        "        print(\"Invalid input. Please enter a valid number.\")\n",
        "\n",
        "    def calculate_grade(percentage):\n",
        "        if percentage >= 90:\n",
        "            return \"A+\"\n",
        "        elif percentage >= 80:\n",
        "            return \"A\"\n",
        "        elif percentage >= 70:\n",
        "            return \"B\"\n",
        "        elif percentage >= 60:\n",
        "            return \"C\"\n",
        "        elif percentage >= 50:\n",
        "            return \"D\"\n",
        "        else:\n",
        "            return \"F\"\n",
        "\n",
        "    matric_grade = calculate_grade(matric_percentage)\n",
        "    intermediate_grade = calculate_grade(intermediate_percentage)\n",
        "\n",
        "    print(\"\\nStudent Bio Data:\")\n",
        "    print(\"Date of Birth:\", dob)\n",
        "    print(\"Roll Number:\", roll_no)\n",
        "    print(\"Section:\", section)\n",
        "    print(\"Matriculation Percentage:\", matric_percentage, \"%\", \"Grade:\", matric_grade)\n",
        "    print(\"Intermediate Percentage:\", intermediate_percentage, \"%\", \"Grade:\", intermediate_grade)\n",
        "\n",
        "student_bio_data()"
      ],
      "metadata": {
        "id": "HJcRT2I2HZIu"
      },
      "execution_count": null,
      "outputs": []
    },
    {
      "cell_type": "code",
      "source": [
        "from re import sub\n",
        "def biodata():\n",
        "    gender = input(\"Enter Gender: \")\n",
        "    name = input(\"Enter Name: \")\n",
        "    age = input(\"Enter Age: \")\n",
        "    dob = input(\"Enter Date of Birth: \")\n",
        "    section = input(\"Enter Section: \")\n",
        "    sub1 = eval(input(\"Enter matric Subject 1 Marks: \"))\n",
        "    sub2 = eval(input(\"Enter matric Subject 2 Marks: \"))\n",
        "    sub3 = eval(input(\"Enter matric Subject 3 Marks: \"))\n",
        "    sub4 = eval(input(\"Enter matric Subject 4 Marks: \"))\n",
        "    sub5 = eval(input(\"Enter matric Subject 5 Marks: \"))\n",
        "    sub6 = eval(input(\"Enter matric Subject 6 Marks: \"))\n",
        "    sub7 = eval(input(\"Enter matric Subject 7 Marks: \"))\n",
        "    per = (sub1+sub2+sub3+sub4+sub5+sub6+sub7)/7\n",
        "\n",
        "    so1 = eval(input(\"Enter Inter Subject 1 Marks: \"))\n",
        "    so2 = eval(input(\"Enter Inter Subject 2 Marks: \"))\n",
        "    so3 = eval(input(\"Enter Inter Subject 3 Marks: \"))\n",
        "    so4= eval(input(\" Enter Inter Subject 4 Marks: \"))\n",
        "    so5 = eval(input(\"Enter Inter Subject 5 Marks: \"))\n",
        "    so6 = eval(input(\"Enter Inter Subject 6 Marks: \"))\n",
        "    so7 = eval(input(\"Enter Inter Subject 7 Marks: \"))\n",
        "\n",
        "    pr = (so1+so2+so3+so4+so5+so6+so7)/7\n",
        "\n",
        "    print(\"Gender:\", gender)\n",
        "    print(\"Name:\", name)\n",
        "    print(\"Age:\", age)\n",
        "    print(\"Date of Birth:\", dob)\n",
        "    print(\"Section:\", section)\n",
        "    print(\" matric Subject 1 Marks:\", sub1)\n",
        "    print(\" matric Subject 2 Marks:\", sub2)\n",
        "    print(\" matric Subject 3 Marks:\", sub3)\n",
        "    print(\" matric Subject 4 Marks:\", sub4)\n",
        "    print(\" matric Subject 5 Marks:\", sub5)\n",
        "    print(\" matric Subject 6 Marks:\", sub6)\n",
        "    print(\" matric Subject 7 Marks:\", sub7)\n",
        "    print(\"Inter Subject 1 Marks:\" , so1)\n",
        "    print(\"Inter Subject 2 Marks:\" ,so2)\n",
        "    print(\"Inter Subject 3 Marks:\" ,so3)\n",
        "    print(\"Inter Subject 4 Marks:\" ,so4)\n",
        "    print(\"Inter Subject 5 Marks:\" ,so5)\n",
        "    print(\"Inter Subject 6 Marks:\" ,so6)\n",
        "    print(\"Inter Subject 7 Marks:\" ,so7)\n",
        "    grade_of_matric= 'A+' if per >= 90 else 'A' if per>=80 else 'B' if per>=70 else 'C' if per>=60 else 'D' if per>=50 else 'F'\n",
        "    print(\"Grade of matriculation:\", grade_of_matric)\n",
        "    if pr >= 90 :\n",
        "      print(\"Grade of intermediate: A+\")\n",
        "    elif pr >=80:\n",
        "      print(\"Grade of intermediate: A\")\n",
        "    elif pr >=70:\n",
        "      print(\"Grade of intermediate: B\")\n",
        "    elif pr >=60:\n",
        "      print(\"Grade of intermediate: C\")\n",
        "    elif pr >=50:\n",
        "      print(\"Grade of intermediate: D\")\n",
        "    else:\n",
        "      print(\"Failed\")\n",
        "\n",
        "\n",
        "    print(\"MatricPercentage:\", per)\n",
        "    print(\"InterPercentage:\", pr)\n",
        "    print(\"Biodata Printed Successfully\")\n",
        "biodata()"
      ],
      "metadata": {
        "colab": {
          "base_uri": "https://localhost:8080/"
        },
        "id": "GnDOMC17HlHu",
        "outputId": "0cc50cb5-653e-4b73-98a2-6f988bfafcbc"
      },
      "execution_count": null,
      "outputs": [
        {
          "output_type": "stream",
          "name": "stdout",
          "text": [
            "Enter Gender: male\n",
            "Enter Name: abdullah\n",
            "Enter Age: 18\n",
            "Enter Date of Birth: 12/12/2003\n",
            "Enter Section: C\n",
            "Enter matric Subject 1 Marks: 89\n",
            "Enter matric Subject 2 Marks: 98\n",
            "Enter matric Subject 3 Marks: 78\n",
            "Enter matric Subject 4 Marks: 89\n",
            "Enter matric Subject 5 Marks: 79\n",
            "Enter matric Subject 6 Marks: 79\n",
            "Enter matric Subject 7 Marks: 67\n",
            "Enter Inter Subject 1 Marks: 68\n",
            "Enter Inter Subject 2 Marks: 96\n",
            "Enter Inter Subject 3 Marks: 78\n",
            " Enter Inter Subject 4 Marks: 89\n",
            "Enter Inter Subject 5 Marks: 89\n",
            "Enter Inter Subject 6 Marks: 78\n",
            "Enter Inter Subject 7 Marks: 97\n",
            "Gender: male\n",
            "Name: abdullah\n",
            "Age: 18\n",
            "Date of Birth: 12/12/2003\n",
            "Section: C\n",
            " matric Subject 1 Marks: 89\n",
            " matric Subject 2 Marks: 98\n",
            " matric Subject 3 Marks: 78\n",
            " matric Subject 4 Marks: 89\n",
            " matric Subject 5 Marks: 79\n",
            " matric Subject 6 Marks: 79\n",
            " matric Subject 7 Marks: 67\n",
            "Inter Subject 1 Marks: 68\n",
            "Inter Subject 2 Marks: 96\n",
            "Inter Subject 3 Marks: 78\n",
            "Inter Subject 4 Marks: 89\n",
            "Inter Subject 5 Marks: 89\n",
            "Inter Subject 6 Marks: 78\n",
            "Inter Subject 7 Marks: 97\n",
            "Grade of matriculation: A\n",
            "Grade of intermediate: A\n",
            "MatricPercentage: 82.71428571428571\n",
            "InterPercentage: 85.0\n",
            "Biodata Printed Successfully\n"
          ]
        }
      ]
    },
    {
      "cell_type": "code",
      "source": [
        "so1 = eval(input(\"Enter Subject 1 Marks: \"))\n",
        "so2 = eval(input(\"Enter Subject 2 Marks: \"))\n",
        "so3 = eval(input(\"Enter Subject 3 Marks: \"))\n",
        "so4= eval(input(\"Enter Subject 4 Marks: \"))\n",
        "so5 = eval(input(\"Enter Subject 5 Marks: \"))\n",
        "pr = (so1+so2+so3+so4+so5)/5\n",
        "if per >= 90 :\n",
        "   print(\"Grade: A+\")\n",
        "elif per >=80:\n",
        "   print(\"Grade: A\")\n",
        "elif per >=70:\n",
        "   print(\"Grade: B\")\n",
        "elif per >=60:\n",
        "   print(\"Grade: C\")\n",
        "elif per >=50:\n",
        "   print(\"Grade: D\")\n",
        "else:\n",
        "   print(\"Grade: F\")\n",
        "   print(\"Percentage:\", pr)"
      ],
      "metadata": {
        "colab": {
          "base_uri": "https://localhost:8080/"
        },
        "id": "o7JMihu4J2R6",
        "outputId": "e2d70f63-d46e-4156-913c-bf65e8c8fc66"
      },
      "execution_count": null,
      "outputs": [
        {
          "output_type": "stream",
          "name": "stdout",
          "text": [
            "Enter Subject 1 Marks: 56\n",
            "Enter Subject 2 Marks: 56\n",
            "Enter Subject 3 Marks: 78\n",
            "Enter Subject 4 Marks: 65\n",
            "Enter Subject 5 Marks: 78\n",
            "Grade: C\n"
          ]
        }
      ]
    },
    {
      "cell_type": "code",
      "source": [
        "# prompt: create me a grade system where 100 - 90 A+ , and so on\n",
        "\n",
        "def calculate_grade(percentage):\n",
        "    if percentage >= 90:\n",
        "        return \"A+\"\n",
        "    elif percentage >= 80:\n",
        "        return \"A\"\n",
        "    elif percentage >= 70:\n",
        "        return \"B\"\n",
        "    elif percentage >= 60:\n",
        "        return \"C\"\n",
        "    elif percentage >= 50:\n",
        "        return \"D\"\n",
        "    else:\n",
        "        return \"F\"\n",
        "\n",
        "# Example usage (you can integrate this into your existing code):\n",
        "subjects = []\n",
        "for i in range(5):\n",
        "    while True:\n",
        "        try:\n",
        "            score = int(input(f\"Enter marks for subject {i + 1}: \"))\n",
        "            if 0 <= score <= 100:\n",
        "              subjects.append(score)\n",
        "              break\n",
        "            else:\n",
        "                print(\"Please enter a valid score between 0 and 100\")\n",
        "        except ValueError:\n",
        "            print(\"Invalid input. Please enter an integer.\")\n",
        "\n",
        "total_marks = sum(subjects)\n",
        "average_percentage = total_marks / len(subjects)\n",
        "grade = calculate_grade(average_percentage)\n",
        "\n",
        "print(f\"Total Marks: {total_marks}\")\n",
        "print(f\"Average Percentage: {average_percentage:.2f}%\")\n",
        "print(f\"Grade: {grade}\")"
      ],
      "metadata": {
        "id": "zZs2g_Y8M1sM"
      },
      "execution_count": null,
      "outputs": []
    },
    {
      "cell_type": "code",
      "source": [
        "def determine_grade(percentage):\n",
        "    if percentage >= 90:\n",
        "        return 'A'\n",
        "    elif percentage >= 80:\n",
        "        return 'B'\n",
        "    elif percentage >= 70:\n",
        "        return 'C'\n",
        "    elif percentage >= 60:\n",
        "        return 'D'\n",
        "    else:\n",
        "        return 'F'\n",
        "def main():\n",
        "    print(\"Enter Student's Bio Data\")\n",
        "    name = input(\"Enter student's name: \")\n",
        "    dob = input(\"Enter student's date of birth (DD-MM-YYYY): \")\n",
        "    roll_no = input(\"Enter student's roll number: \")\n",
        "    section = input(\"Enter student's section: \")\n",
        "    matric_percentage = float(input(\"Enter student's Matriculation percentage: \"))\n",
        "    matric_grade = determine_grade(matric_percentage)\n",
        "    intermediate_percentage = float(input(\"Enter student's Intermediate percentage: \"))\n",
        "    intermediate_grade = determine_grade(intermediate_percentage)\n",
        "    print(\"\\n--- Student Bio Data ---\")\n",
        "    print(f\"Name: {name}\")\n",
        "    print(f\"Date of Birth: {dob}\")\n",
        "    print(f\"Roll Number: {roll_no}\")\n",
        "    print(f\"Section: {section}\")\n",
        "    print(f\"Matriculation Percentage: {matric_percentage}% | Grade: {matric_grade}\")\n",
        "    print(f\"Intermediate Percentage: {intermediate_percentage}% | Grade: {intermediate_grade}\")\n",
        "\n",
        "if __name__ == \"__main__\":\n",
        "    main()"
      ],
      "metadata": {
        "colab": {
          "base_uri": "https://localhost:8080/"
        },
        "id": "8BGJrxw9Vjvo",
        "outputId": "91259d8e-4041-4f49-c75d-435fbaed28bf"
      },
      "execution_count": null,
      "outputs": [
        {
          "output_type": "stream",
          "name": "stdout",
          "text": [
            "Enter Student's Bio Data\n",
            "Enter student's name: abdullah\n",
            "Enter student's date of birth (DD-MM-YYYY): 12-12-2003\n",
            "Enter student's roll number: 144\n",
            "Enter student's section: c\n",
            "Enter student's Matriculation percentage: 84\n",
            "Enter student's Intermediate percentage: 70\n",
            "\n",
            "--- Student Bio Data ---\n",
            "Name: abdullah\n",
            "Date of Birth: 12-12-2003\n",
            "Roll Number: 144\n",
            "Section: c\n",
            "Matriculation Percentage: 84.0% | Grade: B\n",
            "Intermediate Percentage: 70.0% | Grade: C\n"
          ]
        }
      ]
    },
    {
      "cell_type": "code",
      "source": [
        "# prompt: Write a program that asks the user what kind of food they would like. Print a message about that food, such as “Let me see if I can find you a Chowmein”. Food name must be in uppercase. (hint: use upper( ) for food name)\n",
        "\n",
        "food_item = input(\"What kind of food would you like? \").upper()\n",
        "print(f\"Let me see if I can find you a {food_item}.\")"
      ],
      "metadata": {
        "colab": {
          "base_uri": "https://localhost:8080/"
        },
        "id": "8eYPl8QjXjKl",
        "outputId": "2d03e90d-5d96-4627-f009-53647bc7d005"
      },
      "execution_count": null,
      "outputs": [
        {
          "output_type": "stream",
          "name": "stdout",
          "text": [
            "What kind of food would you like? biryani\n",
            "Let me see if I can find you a BIRYANI.\n"
          ]
        }
      ]
    },
    {
      "cell_type": "code",
      "source": [
        "print(\"Enter the marks for 5 courses (each course out of 50):\")\n",
        "c1 = float(input(\"Enter marks for Course 1: \"))\n",
        "c2 = float(input(\"Enter marks for Course 2: \"))\n",
        "c3 = float(input(\"Enter marks for Course 3: \"))\n",
        "c4 = float(input(\"Enter marks for Course 4: \"))\n",
        "c5 = float(input(\"Enter marks for Course 5: \"))\n",
        "total_marks = c1 + c2 + c3 + c4 + c5\n",
        "average = total_marks / 5\n",
        "percentage = (total_marks * 100) / 500\n",
        "print(\"\\n--- Result ---\")\n",
        "print(f\"Total Marks: {total_marks}/500\")\n",
        "print(f\"Percentage: {percentage}%\")"
      ],
      "metadata": {
        "colab": {
          "base_uri": "https://localhost:8080/"
        },
        "id": "ITt-6STLYRR9",
        "outputId": "a9de6c44-1c4c-414e-d9d8-ebdbf8b43dea"
      },
      "execution_count": null,
      "outputs": [
        {
          "output_type": "stream",
          "name": "stdout",
          "text": [
            "Enter the marks for 5 courses (each course out of 50):\n",
            "Enter marks for Course 1: 78\n",
            "Enter marks for Course 2: 88\n",
            "Enter marks for Course 3: 78\n",
            "Enter marks for Course 4: 67\n",
            "Enter marks for Course 5: 90\n",
            "\n",
            "--- Result ---\n",
            "Total Marks: 401.0/500\n",
            "Percentage: 80.2%\n"
          ]
        }
      ]
    },
    {
      "cell_type": "code",
      "source": [],
      "metadata": {
        "id": "aSQ9U_Waw1f1"
      },
      "execution_count": null,
      "outputs": []
    }
  ]
}